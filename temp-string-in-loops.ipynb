{
 "cells": [
  {
   "cell_type": "markdown",
   "metadata": {},
   "source": [
    "## string traversal \n",
    "- it's a common practice to go through every character of a given string\n",
    "- can use both for and while loop to traverse a string"
   ]
  },
  {
   "cell_type": "code",
   "execution_count": null,
   "metadata": {},
   "outputs": [
    {
     "name": "stdout",
     "output_type": "stream",
     "text": [
      "P i r a t e s   o f   t h e   C a r i b b e a n "
     ]
    }
   ],
   "source": [
    "# example using for loop\n",
    "# traversing string using index\n",
    "for i in range(len(s)):\n",
    "    print(s[i], end=' ')"
   ]
  },
  {
   "cell_type": "code",
   "execution_count": null,
   "metadata": {},
   "outputs": [
    {
     "name": "stdout",
     "output_type": "stream",
     "text": [
      "P i r a t e s   o f   t h e   C a r i b b e a n "
     ]
    }
   ],
   "source": [
    "# range-based loop traversing each character\n",
    "for c in s:\n",
    "    print(c, end=' ')"
   ]
  },
  {
   "cell_type": "code",
   "execution_count": null,
   "metadata": {},
   "outputs": [],
   "source": [
    "someStr = \"\"\"afAdf@#456'\"\"\""
   ]
  },
  {
   "cell_type": "code",
   "execution_count": null,
   "metadata": {},
   "outputs": [
    {
     "name": "stdout",
     "output_type": "stream",
     "text": [
      "a f A d f @ # 4 5 6 ' "
     ]
    }
   ],
   "source": [
    "# example using while loop\n",
    "i = 0\n",
    "while i < len(someStr):\n",
    "    print(someStr[i], end=' ')\n",
    "    i += 1"
   ]
  }
 ],
 "metadata": {
  "language_info": {
   "name": "python"
  },
  "orig_nbformat": 4
 },
 "nbformat": 4,
 "nbformat_minor": 2
}
