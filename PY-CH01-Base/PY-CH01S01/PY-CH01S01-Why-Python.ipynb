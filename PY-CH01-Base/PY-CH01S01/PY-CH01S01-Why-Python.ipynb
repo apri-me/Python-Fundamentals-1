{
 "cells": [
  {
   "cell_type": "markdown",
   "metadata": {},
   "source": [
    "# Why Python?"
   ]
  },
  {
   "cell_type": "markdown",
   "metadata": {},
   "source": [
    "## IEEE Spectrum's Best Programming Languages Since 2016\n",
    "\n",
    "IEEE Spectrum has been publishing an annual ranking of the top programming languages since 2016. The rankings are based on a variety of factors, including the popularity of the language, the number of job postings, the amount of code written in the language, and other factors.\n",
    "\n",
    "Here are the top programming languages according to IEEE Spectrum's rankings since 2016:\n",
    "\n",
    "- 2016: Python, C, Java, C++, JavaScript\n",
    "- 2017: Python, C, Java, C++, JavaScript\n",
    "- 2018: Python, Java, C, C++, JavaScript\n",
    "- 2019: Python, C, Java, C++, JavaScript\n",
    "- 2020: Python, Java, C, C++, JavaScript\n",
    "- 2021: Python, C, Java, C++, JavaScript\n",
    "- 2022: Python, C, C++, C#, Java\n",
    "\n",
    "![IEE Spectrum ranking](images/IEE.jpg)\n",
    "\n",
    "It's important to note that the rankings can vary from year to year based on changes in the software development industry, the popularity of new technologies, and other factors. However, Python has consistently been ranked as one of the top programming languages in recent years due to its popularity, versatility, and ease of use.\n"
   ]
  },
  {
   "cell_type": "markdown",
   "metadata": {},
   "source": [
    "## Python Ratings\n",
    "\n",
    "Python is widely considered one of the most popular and well-regarded programming languages in the world. There are several ways to measure the popularity and quality of a programming language, including:\n",
    "\n",
    "### TIOBE Index\n",
    "\n",
    "The TIOBE Index is a monthly ranking of the popularity of programming languages based on the number of search engine results for the language. Python consistently ranks in the top 3 programming languages on the TIOBE Index, and has been the number one language several times.\n",
    "\n",
    "### IEEE Spectrum\n",
    "\n",
    "IEEE Spectrum also publishes an annual ranking of the top programming languages, which is based on a variety of factors including the popularity of the language, the number of job postings, and the amount of code written in the language. Python has consistently been ranked as one of the top programming languages in recent years, and was the number one language in 2021.\n",
    "\n",
    "### Stack Overflow\n",
    "\n",
    "Stack Overflow is a popular programming community where developers ask and answer questions about coding. The Stack Overflow Developer Survey is an annual survey of the programming community, which includes a question about the most loved, wanted, and dreaded programming languages. Python has consistently been one of the most loved programming languages according to the Stack Overflow Developer Survey.\n",
    "\n",
    "In summary, Python is widely regarded as one of the most popular and well-regarded programming languages in the world, based on several different ratings and measures of popularity and quality.\n"
   ]
  },
  {
   "cell_type": "markdown",
   "metadata": {},
   "source": [
    "## Python Features\n",
    "- high-level general purpose programming language such as PHP, Perl, Java, JavaScript, C++, etc.\n",
    "    - as opposed to low level machine language such as assembly\n",
    "- interpreted language; needs Python interpreter to execute Python code\n",
    "- platform independent/portable; python programs can be run in many platforms including Raspberry Pi\n",
    "- open source, can be freely downloaded and use: http://python.org\n",
    "- installed using Python package manager such as Anaconda or Miniconda: https://www.anaconda.com/download/\n",
    "- two versions Python 2.x and Python 3.x - Notebooks and the text use version 3.x which is the new standard"
   ]
  },
  {
   "cell_type": "markdown",
   "metadata": {},
   "source": [
    "## Applications of Python\n",
    "\n",
    "Python is a versatile and widely used programming language with a large number of applications across a variety of fields. Some of the most popular and well-known applications of Python include:\n",
    "\n",
    "### Web Development\n",
    "\n",
    "Python is a popular choice for web development, with popular frameworks like Django and Flask making it easy to build and deploy web applications. Python can be used for both the backend and frontend of web development, and its large library of modules makes it easy to perform common web development tasks.\n",
    "\n",
    "### Data Science and Machine Learning\n",
    "\n",
    "Python is widely used in the field of data science and machine learning, due to its simplicity, versatility, and large library of modules for data analysis and visualization. Python libraries like NumPy, Pandas, and Matplotlib make it easy to manipulate and visualize data, while libraries like TensorFlow and PyTorch allow for the development of complex machine learning models.\n",
    "\n",
    "### Scientific Computing\n",
    "\n",
    "Python is also widely used in scientific computing, with libraries like SciPy, NumPy, and SymPy providing tools for complex numerical computations and scientific simulations. Python is particularly well-suited for scientific computing due to its simplicity, versatility, and large library of modules.\n",
    "\n",
    "### Automation and System Administration\n",
    "\n",
    "Python is also used for automation and system administration tasks, with libraries like Paramiko, Fabric, and Ansible making it easy to automate tasks across multiple systems. Python can be used to automate tasks ranging from simple scripts to complex multi-step processes, and its large library of modules makes it easy to perform common automation tasks.\n",
    "\n",
    "### Other Applications\n",
    "\n",
    "Python is also used in a wide range of other applications, including game development, network programming, artificial intelligence, and more. Its simplicity, versatility, and large library of modules make it a popular choice for a wide range of tasks and applications.\n",
    "\n",
    "In summary, Python is a versatile and widely used programming language with a large number of applications across a variety of fields, including web development, data science, scientific computing, automation, and more.\n"
   ]
  },
  {
   "cell_type": "markdown",
   "metadata": {},
   "source": [
    "## Popular Python Packages for Data Science\n",
    "\n",
    "Data science is a field that involves using data to answer questions and make predictions. Here are some popular Python packages that are used in data science, and a brief explanation of what they do:\n",
    "\n",
    "### NumPy\n",
    "\n",
    "NumPy is a package that helps us work with numbers and arrays. It makes it easy to perform mathematical operations on large sets of numbers. For example, if we have a large dataset of temperatures, we can use NumPy to quickly calculate the average temperature.\n",
    "\n",
    "<img src=\"images/numpy-arrays.png\"  width=\"600\">\n",
    "\n",
    "### Pandas\n",
    "\n",
    "Pandas is a package that helps us organize and analyze data. It's like a spreadsheet, but for code! We can use Pandas to filter, sort, and analyze data to find answers to questions. For example, if we have data on the sales of a store, we can use Pandas to find the average sales per day, or the best-selling product.\n",
    "\n",
    "<img src=\"images/pandas-df.png\"  width=\"600\">\n",
    "\n",
    "\n",
    "### Matplotlib\n",
    "\n",
    "Matplotlib is a package that helps us create beautiful visualizations of data. We can use it to make graphs, charts, and other visualizations that help us understand data better. For example, if we have data on the number of books read by students in a class, we can use Matplotlib to make a bar chart that shows the number of books read by each student.\n",
    "\n",
    "<img src=\"images/matplotlib.png\"  width=\"600\">\n",
    "\n",
    "### Scikit-learn\n",
    "\n",
    "Scikit-learn is a package that helps us make predictions using data. We can use scikit-learn to train models on data and then make predictions based on that data. For example, if we have data on the height and weight of a group of people, we can use scikit-learn to predict the height of a person based on their weight.\n",
    "\n",
    "<img src=\"images/scikit-learn.png\" width=\"600\">\n",
    "\n",
    "### TensorFlow\n",
    "\n",
    "TensorFlow is a package that helps us build very complex models for data. It's like building a machine that can learn from data and make predictions. We can use TensorFlow to build models for a variety of tasks, such as image classification, natural language processing, and more.\n",
    "\n",
    "These packages make data science more accessible and help us find answers to interesting questions!\n",
    "\n",
    "<img src=\"images/tf.jpg\" width=\"600\">\n",
    "\n"
   ]
  }
 ],
 "metadata": {
  "kernelspec": {
   "display_name": "Python 3 (ipykernel)",
   "language": "python",
   "name": "python3"
  },
  "language_info": {
   "codemirror_mode": {
    "name": "ipython",
    "version": 3
   },
   "file_extension": ".py",
   "mimetype": "text/x-python",
   "name": "python",
   "nbconvert_exporter": "python",
   "pygments_lexer": "ipython3",
   "version": "3.9.13"
  },
  "vscode": {
   "interpreter": {
    "hash": "916dbcbb3f70747c44a77c7bcd40155683ae19c65e1c03b4aa3499c5328201f1"
   }
  }
 },
 "nbformat": 4,
 "nbformat_minor": 2
}
