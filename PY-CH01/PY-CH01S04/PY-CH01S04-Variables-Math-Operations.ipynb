{
 "cells": [
  {
   "attachments": {},
   "cell_type": "markdown",
   "metadata": {},
   "source": [
    "# Variables\n",
    "- variables are identifiers that are used to store values which can be then easily manipulated\n",
    "- variables give names to data so the data can be easily referenced by their names over and again\n",
    "- rules and best practices for creating identifiers and variable names:\n",
    "    - can't be a keyword -- what are the built-in keywords?\n",
    "    - can start with only alphabets or underscore ( _ )\n",
    "    - can't have symbols such as $, %, &, white space, etc.\n",
    "    - can't start with a digit but digits can be used anywhere else in the name\n",
    "    - use camelCase names or use _ for_multi_word_names\n",
    "    - use concise yet meaningul and unambigous names for less typing and avoid typos"
   ]
  },
  {
   "cell_type": "code",
   "execution_count": null,
   "metadata": {},
   "outputs": [
    {
     "name": "stdout",
     "output_type": "stream",
     "text": [
      "\n",
      "Here is a list of the Python keywords.  Enter any keyword to get more help.\n",
      "\n",
      "False               class               from                or\n",
      "None                continue            global              pass\n",
      "True                def                 if                  raise\n",
      "and                 del                 import              return\n",
      "as                  elif                in                  try\n",
      "assert              else                is                  while\n",
      "async               except              lambda              with\n",
      "await               finally             nonlocal            yield\n",
      "break               for                 not                 \n",
      "\n"
     ]
    }
   ],
   "source": [
    "help('keywords')"
   ]
  },
  {
   "cell_type": "code",
   "execution_count": null,
   "metadata": {},
   "outputs": [
    {
     "ename": "NameError",
     "evalue": "name 'x' is not defined",
     "output_type": "error",
     "traceback": [
      "\u001b[0;31m---------------------------------------------------------------------------\u001b[0m\n",
      "\n",
      "\u001b[0;31mNameError\u001b[0m                                 Traceback (most recent call last)\n",
      "\n",
      "\u001b[0;32m<ipython-input-36-293ab258265c>\u001b[0m in \u001b[0;36m<module>\u001b[0;34m\u001b[0m\n",
      "\n",
      "\u001b[1;32m      1\u001b[0m \u001b[0;31m# variable must be defined/declared before you can use\u001b[0m\u001b[0;34m\u001b[0m\u001b[0;34m\u001b[0m\u001b[0;34m\u001b[0m\u001b[0m\n",
      "\n",
      "\u001b[0;32m----> 2\u001b[0;31m \u001b[0mprint\u001b[0m\u001b[0;34m(\u001b[0m\u001b[0mx\u001b[0m\u001b[0;34m)\u001b[0m\u001b[0;34m\u001b[0m\u001b[0;34m\u001b[0m\u001b[0m\n",
      "\n",
      "\u001b[0m\n",
      "\n",
      "\u001b[0;31mNameError\u001b[0m: name 'x' is not defined"
     ]
    }
   ],
   "source": [
    "# Variable must be defined/declared before you can use\n",
    "print(x)"
   ]
  },
  {
   "cell_type": "code",
   "execution_count": null,
   "metadata": {},
   "outputs": [],
   "source": [
    "x = 'some value'"
   ]
  },
  {
   "cell_type": "code",
   "execution_count": null,
   "metadata": {},
   "outputs": [
    {
     "name": "stdout",
     "output_type": "stream",
     "text": [
      "some value\n"
     ]
    }
   ],
   "source": [
    "print(x)"
   ]
  },
  {
   "cell_type": "code",
   "execution_count": null,
   "metadata": {},
   "outputs": [],
   "source": [
    "# Exercise: Define a bunch of variables to store some values of different types\n",
    "var1 = -100\n",
    "num = -99.99\n",
    "name = 'John'\n",
    "lName = 'Smith'\n",
    "MI = 'A'\n",
    "grade = 10.5\n",
    "Name = 'Jake'\n",
    "grade = 19.9"
   ]
  },
  {
   "cell_type": "markdown",
   "metadata": {},
   "source": [
    "## Dynamic Typing\n",
    "- type of variables are dynamically evaluated in Python when the assignment statement is executed\n",
    "- same variable can be uesd to hold different data types"
   ]
  },
  {
   "cell_type": "code",
   "execution_count": null,
   "metadata": {},
   "outputs": [],
   "source": [
    "var = 100"
   ]
  },
  {
   "cell_type": "code",
   "execution_count": null,
   "metadata": {},
   "outputs": [],
   "source": [
    "var = 'hello'"
   ]
  },
  {
   "cell_type": "code",
   "execution_count": null,
   "metadata": {},
   "outputs": [],
   "source": [
    "var = 99.89"
   ]
  },
  {
   "cell_type": "code",
   "execution_count": null,
   "metadata": {},
   "outputs": [
    {
     "data": {
      "text/plain": [
       "99.89"
      ]
     },
     "metadata": {},
     "output_type": "display_data"
    }
   ],
   "source": [
    "var"
   ]
  },
  {
   "cell_type": "markdown",
   "metadata": {},
   "source": [
    "## Visualize variable assignments in pythontutor.com\n",
    "[Click Here](http://pythontutor.com/visualize.html#code=var1%20%3D%20100%0Anum%20%3D%2099.99%0Aname%20%3D%20'John'%0AlName%20%3D%20'Smith'%0AMI%20%3D%20'A'%0Agrade%20%3D%2010.5%0Agrade%20%3D%2019.9%0AName%20%3D%20'Jake'&cumulative=false&curInstr=0&heapPrimitives=false&mode=display&origin=opt-frontend.js&py=3&rawInputLstJSON=%5B%5D&textReferences=false)"
   ]
  },
  {
   "cell_type": "markdown",
   "metadata": {},
   "source": [
    "## Numeric computation\n",
    "- numeric computation is usually carried out with experssions involving operators and operands\n",
    "- **operators** are special tokens/symbols that represent computations like addition, multiplication and division \n",
    "- the values an operator uses are called **operands**\n",
    "- some binary operators that take two operands\n",
    "    - addition: 10 + 20\n",
    "    - subtraction: 20 - 10 \n",
    "    - true division: 10 / 3\n",
    "    - multiplication: 7 * 9\n",
    "    - integer division: 10 // 3\n",
    "    - remainder or modulus operator: 10 % 2\n",
    "    - power: 2 ** 3"
   ]
  },
  {
   "cell_type": "code",
   "execution_count": null,
   "metadata": {},
   "outputs": [],
   "source": [
    "# Exercise: play with some examples of various operators supported by Python"
   ]
  },
  {
   "cell_type": "markdown",
   "metadata": {},
   "source": [
    "## Order of operations\n",
    "- depends on the rules of precedence\n",
    "\n",
    "**uses PEMDAS rule from high to low order**\n",
    "\n",
    "1. Parenthesis\n",
    "2. Exponentiation\n",
    "3. Multiplication and Division (left to right)\n",
    "4. Addition and Subtraction (left to right)\n"
   ]
  },
  {
   "cell_type": "code",
   "execution_count": null,
   "metadata": {},
   "outputs": [
    {
     "name": "stdout",
     "output_type": "stream",
     "text": [
      "18\n"
     ]
    }
   ],
   "source": [
    "# Some examples\n",
    "print(2 * 3 ** 2)"
   ]
  },
  {
   "cell_type": "code",
   "execution_count": null,
   "metadata": {},
   "outputs": [
    {
     "name": "stdout",
     "output_type": "stream",
     "text": [
      "-9\n"
     ]
    }
   ],
   "source": [
    "x = 1\n",
    "y = 2\n",
    "z = 3\n",
    "ans = x+y-z*y**y\n",
    "print(ans)"
   ]
  },
  {
   "cell_type": "markdown",
   "metadata": {},
   "source": [
    "## Operations on strings\n",
    "- $+$ and $*$ operators also work on strings\n",
    "- Chapter 08 covers more on string data type and operations"
   ]
  },
  {
   "cell_type": "code",
   "execution_count": null,
   "metadata": {},
   "outputs": [
    {
     "name": "stdout",
     "output_type": "stream",
     "text": [
      "JohnSmith\n"
     ]
    }
   ],
   "source": [
    "# Some examples\n",
    "fname = \"John\"\n",
    "lname = \"Smith\"\n",
    "fullName = fname + lname\n",
    "print(fullName)"
   ]
  },
  {
   "cell_type": "code",
   "execution_count": null,
   "metadata": {},
   "outputs": [],
   "source": [
    "gene = \"AGT\"*10"
   ]
  },
  {
   "cell_type": "code",
   "execution_count": null,
   "metadata": {},
   "outputs": [
    {
     "name": "stdout",
     "output_type": "stream",
     "text": [
      "AGTAGTAGTAGTAGTAGTAGTAGTAGTAGT\n"
     ]
    }
   ],
   "source": [
    "print(gene)"
   ]
  },
  {
   "cell_type": "markdown",
   "metadata": {},
   "source": [
    "## Standard input\n",
    "- read data from standard or common input such as keyboards\n",
    "- allows your program to receive data during program execution facilitating user interactions\n",
    "- input values will have type string even if numbers are entered\n",
    "- use variables to store the data read from standard input"
   ]
  },
  {
   "cell_type": "code",
   "execution_count": null,
   "metadata": {},
   "outputs": [
    {
     "name": "stdout",
     "output_type": "stream",
     "text": [
      "What is your name? \n"
     ]
    }
   ],
   "source": [
    "name = input('What is your name? ')"
   ]
  },
  {
   "cell_type": "code",
   "execution_count": null,
   "metadata": {},
   "outputs": [
    {
     "name": "stdout",
     "output_type": "stream",
     "text": [
      "hello, \n"
     ]
    }
   ],
   "source": [
    "print('hello,', name)"
   ]
  },
  {
   "cell_type": "code",
   "execution_count": null,
   "metadata": {},
   "outputs": [
    {
     "name": "stdout",
     "output_type": "stream",
     "text": [
      "Enter a number =>\n",
      "You entered:  \n",
      "type of  = <class 'str'>\n"
     ]
    }
   ],
   "source": [
    "num = input('Enter a number =>')\n",
    "print('You entered: ', num)\n",
    "print('type of', num, '=', type(num))"
   ]
  },
  {
   "cell_type": "code",
   "execution_count": null,
   "metadata": {},
   "outputs": [
    {
     "data": {
      "text/plain": [
       "''"
      ]
     },
     "metadata": {},
     "output_type": "display_data"
    }
   ],
   "source": [
    "num"
   ]
  },
  {
   "cell_type": "code",
   "execution_count": null,
   "metadata": {},
   "outputs": [
    {
     "ename": "ValueError",
     "evalue": "invalid literal for int() with base 10: ''",
     "output_type": "error",
     "traceback": [
      "\u001b[0;31m---------------------------------------------------------------------------\u001b[0m\n",
      "\n",
      "\u001b[0;31mValueError\u001b[0m                                Traceback (most recent call last)\n",
      "\n",
      "\u001b[0;32m<ipython-input-54-1935f54633b6>\u001b[0m in \u001b[0;36m<module>\u001b[0;34m\u001b[0m\n",
      "\n",
      "\u001b[1;32m      1\u001b[0m \u001b[0;31m# str must be casted into int or float depending on the value required\u001b[0m\u001b[0;34m\u001b[0m\u001b[0;34m\u001b[0m\u001b[0;34m\u001b[0m\u001b[0m\n",
      "\n",
      "\u001b[0;32m----> 2\u001b[0;31m \u001b[0mnum\u001b[0m \u001b[0;34m=\u001b[0m \u001b[0mint\u001b[0m\u001b[0;34m(\u001b[0m\u001b[0mnum\u001b[0m\u001b[0;34m)\u001b[0m\u001b[0;34m\u001b[0m\u001b[0;34m\u001b[0m\u001b[0m\n",
      "\n",
      "\u001b[0m\u001b[1;32m      3\u001b[0m \u001b[0mprint\u001b[0m\u001b[0;34m(\u001b[0m\u001b[0;34m'type of'\u001b[0m\u001b[0;34m,\u001b[0m \u001b[0mnum\u001b[0m\u001b[0;34m,\u001b[0m \u001b[0;34m'='\u001b[0m\u001b[0;34m,\u001b[0m \u001b[0mtype\u001b[0m\u001b[0;34m(\u001b[0m\u001b[0mnum\u001b[0m\u001b[0;34m)\u001b[0m\u001b[0;34m)\u001b[0m\u001b[0;34m\u001b[0m\u001b[0;34m\u001b[0m\u001b[0m\n",
      "\n",
      "\n",
      "\n",
      "\u001b[0;31mValueError\u001b[0m: invalid literal for int() with base 10: ''"
     ]
    }
   ],
   "source": [
    "# str must be casted into int or float depending on the value required\n",
    "num = int(num)\n",
    "print('type of', num, '=', type(num))"
   ]
  }
 ],
 "metadata": {
  "kernelspec": {
   "display_name": "Python 3",
   "language": "python",
   "name": "python3"
  },
  "language_info": {
   "name": "python",
   "version": "3.11.0"
  },
  "orig_nbformat": 4,
  "vscode": {
   "interpreter": {
    "hash": "82188060e8f5264cb2ee53779d5c87c8a9099cf614dd6972d5be0079b432ef35"
   }
  }
 },
 "nbformat": 4,
 "nbformat_minor": 2
}
